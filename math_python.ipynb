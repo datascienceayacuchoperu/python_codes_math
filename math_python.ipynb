{
  "nbformat": 4,
  "nbformat_minor": 0,
  "metadata": {
    "colab": {
      "name": "math_python.ipynb",
      "provenance": [],
      "collapsed_sections": [],
      "authorship_tag": "ABX9TyPqhFcoGfPuntQ+jGDZutb3"
    },
    "kernelspec": {
      "name": "python3",
      "display_name": "Python 3"
    },
    "language_info": {
      "name": "python"
    }
  },
  "cells": [
    {
      "cell_type": "code",
      "execution_count": 15,
      "metadata": {
        "id": "kb0fWHQru2Xi"
      },
      "outputs": [],
      "source": [
        "import sympy as sym"
      ]
    },
    {
      "cell_type": "markdown",
      "source": [
        "#Resolver las siguientes ecuaciones"
      ],
      "metadata": {
        "id": "romcCTmavEg-"
      }
    },
    {
      "cell_type": "markdown",
      "source": [
        "$x + 3 = - 1$"
      ],
      "metadata": {
        "id": "MOVt4SJ1vrfM"
      }
    },
    {
      "cell_type": "code",
      "source": [
        "x = sym.Symbol(\"x\")\n",
        "equation = sym.Eq(x+3,-1)\n",
        "sym.solveset(equation,x)"
      ],
      "metadata": {
        "colab": {
          "base_uri": "https://localhost:8080/",
          "height": 37
        },
        "id": "9F8_IAjku5ns",
        "outputId": "1c684064-42e4-450b-a2d4-d6df9eae27bc"
      },
      "execution_count": 3,
      "outputs": [
        {
          "output_type": "execute_result",
          "data": {
            "text/plain": [
              "FiniteSet(-4)"
            ],
            "text/latex": "$\\displaystyle \\left\\{-4\\right\\}$"
          },
          "metadata": {},
          "execution_count": 3
        }
      ]
    },
    {
      "cell_type": "markdown",
      "source": [
        "$3(x^2) - 2x = 5$"
      ],
      "metadata": {
        "id": "We1B-8_SwBOl"
      }
    },
    {
      "cell_type": "code",
      "source": [
        "x = sym.Symbol(\"x\")\n",
        "equation = sym.Eq(3*x**2 - 2*x, 5)\n",
        "sym.solveset(equation, x)"
      ],
      "metadata": {
        "colab": {
          "base_uri": "https://localhost:8080/",
          "height": 58
        },
        "id": "q7ryMJuywNxY",
        "outputId": "eb7d3f7e-144f-4b7d-aaf2-e41ed4f630c3"
      },
      "execution_count": 5,
      "outputs": [
        {
          "output_type": "execute_result",
          "data": {
            "text/plain": [
              "FiniteSet(-1, 5/3)"
            ],
            "text/latex": "$\\displaystyle \\left\\{-1, \\frac{5}{3}\\right\\}$"
          },
          "metadata": {},
          "execution_count": 5
        }
      ]
    },
    {
      "cell_type": "markdown",
      "source": [
        "$x (x-1)(x+3) = 0 $"
      ],
      "metadata": {
        "id": "xgR1rlbBxh1J"
      }
    },
    {
      "cell_type": "code",
      "source": [
        "x = sym.Symbol(\"x\")\n",
        "equation = sym.Eq(x*(x-1)*(x+3), 0)\n",
        "sym.solveset(equation, x)"
      ],
      "metadata": {
        "colab": {
          "base_uri": "https://localhost:8080/",
          "height": 37
        },
        "id": "7XEm1hfDxsrs",
        "outputId": "c9913f99-68a4-4bc6-db3f-8f8439864398"
      },
      "execution_count": 6,
      "outputs": [
        {
          "output_type": "execute_result",
          "data": {
            "text/plain": [
              "FiniteSet(-3, 0, 1)"
            ],
            "text/latex": "$\\displaystyle \\left\\{-3, 0, 1\\right\\}$"
          },
          "metadata": {},
          "execution_count": 6
        }
      ]
    },
    {
      "cell_type": "markdown",
      "source": [
        "$4x^3 + 7x-24 = 1 $"
      ],
      "metadata": {
        "id": "d9uFlUaYx6-i"
      }
    },
    {
      "cell_type": "code",
      "source": [
        "x = sym.Symbol(\"x\")\n",
        "equation = sym.Eq(4*x**3 + 7*x -25, 0)\n",
        "sym.solveset(equation, x)"
      ],
      "metadata": {
        "colab": {
          "base_uri": "https://localhost:8080/",
          "height": 104
        },
        "id": "6NoBR8soyFqz",
        "outputId": "a8ad9b0b-a52a-490f-90ba-ed40e11f9d60"
      },
      "execution_count": 8,
      "outputs": [
        {
          "output_type": "execute_result",
          "data": {
            "text/plain": [
              "FiniteSet(-7/(12*(25/8 + sqrt(51654)/72)**(1/3)) + (25/8 + sqrt(51654)/72)**(1/3), -(25/8 + sqrt(51654)/72)**(1/3)/2 + 7/(24*(25/8 + sqrt(51654)/72)**(1/3)) + I*(7*sqrt(3)/(24*(25/8 + sqrt(51654)/72)**(1/3)) + sqrt(3)*(25/8 + sqrt(51654)/72)**(1/3)/2), -(25/8 + sqrt(51654)/72)**(1/3)/2 + 7/(24*(25/8 + sqrt(51654)/72)**(1/3)) + I*(-sqrt(3)*(25/8 + sqrt(51654)/72)**(1/3)/2 - 7*sqrt(3)/(24*(25/8 + sqrt(51654)/72)**(1/3))))"
            ],
            "text/latex": "$\\displaystyle \\left\\{- \\frac{7}{12 \\sqrt[3]{\\frac{25}{8} + \\frac{\\sqrt{51654}}{72}}} + \\sqrt[3]{\\frac{25}{8} + \\frac{\\sqrt{51654}}{72}}, - \\frac{\\sqrt[3]{\\frac{25}{8} + \\frac{\\sqrt{51654}}{72}}}{2} + \\frac{7}{24 \\sqrt[3]{\\frac{25}{8} + \\frac{\\sqrt{51654}}{72}}} + i \\left(\\frac{7 \\sqrt{3}}{24 \\sqrt[3]{\\frac{25}{8} + \\frac{\\sqrt{51654}}{72}}} + \\frac{\\sqrt{3} \\sqrt[3]{\\frac{25}{8} + \\frac{\\sqrt{51654}}{72}}}{2}\\right), - \\frac{\\sqrt[3]{\\frac{25}{8} + \\frac{\\sqrt{51654}}{72}}}{2} + \\frac{7}{24 \\sqrt[3]{\\frac{25}{8} + \\frac{\\sqrt{51654}}{72}}} + i \\left(- \\frac{\\sqrt{3} \\sqrt[3]{\\frac{25}{8} + \\frac{\\sqrt{51654}}{72}}}{2} - \\frac{7 \\sqrt{3}}{24 \\sqrt[3]{\\frac{25}{8} + \\frac{\\sqrt{51654}}{72}}}\\right)\\right\\}$"
          },
          "metadata": {},
          "execution_count": 8
        }
      ]
    },
    {
      "cell_type": "markdown",
      "source": [
        "$x^2 + 4 - y = 1/y$"
      ],
      "metadata": {
        "id": "itqSmrwHyaPb"
      }
    },
    {
      "cell_type": "code",
      "source": [
        "#Find the solution to this equation for \"x\"\n",
        "x = sym.Symbol(\"x\")\n",
        "y = sym.Symbol(\"y\")\n",
        "equation = sym.Eq(x**2 + 4 - y, 1/y)\n",
        "sym.solveset(equation, x)"
      ],
      "metadata": {
        "colab": {
          "base_uri": "https://localhost:8080/",
          "height": 70
        },
        "id": "UsfFzzYRyjng",
        "outputId": "4ad711f4-15c5-4f48-efca-fe7b371798e5"
      },
      "execution_count": 9,
      "outputs": [
        {
          "output_type": "execute_result",
          "data": {
            "text/plain": [
              "FiniteSet(sqrt((y**2 - 4*y + 1)/y), -sqrt((y**2 - 4*y + 1)/y))"
            ],
            "text/latex": "$\\displaystyle \\left\\{- \\sqrt{\\frac{y^{2} - 4 y + 1}{y}}, \\sqrt{\\frac{y^{2} - 4 y + 1}{y}}\\right\\}$"
          },
          "metadata": {},
          "execution_count": 9
        }
      ]
    },
    {
      "cell_type": "code",
      "source": [
        "#Obtain the specific solution when y=5. Do this in two ways: substitute the value in to your equation and substitute the value in to your solution.\n",
        "x = sym.Symbol(\"x\")\n",
        "y = sym.Symbol(\"y\")\n",
        "equation = sym.Eq(x**2 + 4 - 5, 1/5)\n",
        "sym.solveset(equation, x)"
      ],
      "metadata": {
        "colab": {
          "base_uri": "https://localhost:8080/",
          "height": 37
        },
        "id": "ycgd2wNny8n_",
        "outputId": "ddde9cdb-6e77-492d-a73a-2c2491951f34"
      },
      "execution_count": 10,
      "outputs": [
        {
          "output_type": "execute_result",
          "data": {
            "text/plain": [
              "FiniteSet(-1.09544511501033, 1.09544511501033)"
            ],
            "text/latex": "$\\displaystyle \\left\\{-1.09544511501033, 1.09544511501033\\right\\}$"
          },
          "metadata": {},
          "execution_count": 10
        }
      ]
    },
    {
      "cell_type": "code",
      "source": [
        "x = sym.Symbol(\"x\")\n",
        "y = sym.Symbol(\"y\")\n",
        "equation = sym.Eq(x**2 + 4 - y, 1/y)\n",
        "solution = sym.solveset(equation, x)\n",
        "solution"
      ],
      "metadata": {
        "colab": {
          "base_uri": "https://localhost:8080/",
          "height": 70
        },
        "id": "nIVbP6n6zNcK",
        "outputId": "e9b2357a-7c2d-4e36-e979-439602a92370"
      },
      "execution_count": 16,
      "outputs": [
        {
          "output_type": "execute_result",
          "data": {
            "text/plain": [
              "FiniteSet(sqrt((y**2 - 4*y + 1)/y), -sqrt((y**2 - 4*y + 1)/y))"
            ],
            "text/latex": "$\\displaystyle \\left\\{- \\sqrt{\\frac{y^{2} - 4 y + 1}{y}}, \\sqrt{\\frac{y^{2} - 4 y + 1}{y}}\\right\\}$"
          },
          "metadata": {},
          "execution_count": 16
        }
      ]
    },
    {
      "cell_type": "code",
      "source": [
        "x = sym.Symbol(\"x\")\n",
        "y = sym.Symbol(\"y\")\n",
        "equation = sym.Eq(x**2 + 4 - y, 1/y)\n",
        "solution = sym.solveset(equation.subs({y:5}), x)\n",
        "solution"
      ],
      "metadata": {
        "colab": {
          "base_uri": "https://localhost:8080/",
          "height": 68
        },
        "id": "lKaU7HmP1bCB",
        "outputId": "db73cb8d-160a-457c-8727-66a87d9694d7"
      },
      "execution_count": 17,
      "outputs": [
        {
          "output_type": "execute_result",
          "data": {
            "text/plain": [
              "FiniteSet(-sqrt(30)/5, sqrt(30)/5)"
            ],
            "text/latex": "$\\displaystyle \\left\\{- \\frac{\\sqrt{30}}{5}, \\frac{\\sqrt{30}}{5}\\right\\}$"
          },
          "metadata": {},
          "execution_count": 17
        }
      ]
    }
  ]
}